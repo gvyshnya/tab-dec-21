{
 "cells": [
  {
   "cell_type": "code",
   "execution_count": 6,
   "metadata": {
    "_cell_guid": "b1076dfc-b9ad-4769-8c92-a6c4dae69d19",
    "_uuid": "8f2839f25d086af736a60e9eeb907d3b93b6e0e5",
    "execution": {
     "iopub.execute_input": "2021-12-05T20:31:27.690678Z",
     "iopub.status.busy": "2021-12-05T20:31:27.689438Z",
     "iopub.status.idle": "2021-12-05T20:31:27.695452Z",
     "shell.execute_reply": "2021-12-05T20:31:27.694663Z",
     "shell.execute_reply.started": "2021-12-05T20:31:27.690617Z"
    }
   },
   "outputs": [],
   "source": [
    "# Originally forked from https://www.kaggle.com/rsesha/dec-tps-deep-autoviml"
   ]
  },
  {
   "cell_type": "code",
   "execution_count": 7,
   "metadata": {
    "_kg_hide-output": true,
    "execution": {
     "iopub.execute_input": "2021-12-05T20:31:27.697465Z",
     "iopub.status.busy": "2021-12-05T20:31:27.697111Z",
     "iopub.status.idle": "2021-12-05T20:32:43.503550Z",
     "shell.execute_reply": "2021-12-05T20:32:43.502634Z",
     "shell.execute_reply.started": "2021-12-05T20:31:27.697437Z"
    }
   },
   "outputs": [],
   "source": [
    "!pip install deep_autoviml"
   ]
  },
  {
   "cell_type": "code",
   "execution_count": 8,
   "metadata": {
    "execution": {
     "iopub.execute_input": "2021-12-05T20:32:43.507248Z",
     "iopub.status.busy": "2021-12-05T20:32:43.506918Z",
     "iopub.status.idle": "2021-12-05T20:32:48.850576Z",
     "shell.execute_reply": "2021-12-05T20:32:48.849644Z",
     "shell.execute_reply.started": "2021-12-05T20:32:43.507204Z"
    }
   },
   "outputs": [],
   "source": [
    "from deep_autoviml import deep_autoviml as deepauto\n",
    "import pandas as pd\n",
    "import datetime as dt"
   ]
  },
  {
   "cell_type": "code",
   "execution_count": 9,
   "metadata": {
    "execution": {
     "iopub.execute_input": "2021-12-05T20:32:48.853410Z",
     "iopub.status.busy": "2021-12-05T20:32:48.852472Z",
     "iopub.status.idle": "2021-12-05T20:32:48.859097Z",
     "shell.execute_reply": "2021-12-05T20:32:48.858261Z",
     "shell.execute_reply.started": "2021-12-05T20:32:48.853355Z"
    }
   },
   "outputs": [],
   "source": [
    "# main flow\n",
    "start_time = dt.datetime.now()\n",
    "print(\"Started at \", start_time)"
   ]
  },
  {
   "cell_type": "code",
   "execution_count": 10,
   "metadata": {
    "execution": {
     "iopub.execute_input": "2021-12-05T20:32:48.861993Z",
     "iopub.status.busy": "2021-12-05T20:32:48.861394Z",
     "iopub.status.idle": "2021-12-05T20:32:48.878388Z",
     "shell.execute_reply": "2021-12-05T20:32:48.877637Z",
     "shell.execute_reply.started": "2021-12-05T20:32:48.861960Z"
    }
   },
   "outputs": [],
   "source": [
    "trainfile = '/kaggle/input/tabular-playground-series-dec-2021/train.csv'\n",
    "testfile = '/kaggle/input/tabular-playground-series-dec-2021/test.csv'\n",
    "subfile = '/kaggle/input/tabular-playground-series-dec-2021/sample_submission.csv'"
   ]
  },
  {
   "cell_type": "code",
   "execution_count": 11,
   "metadata": {
    "execution": {
     "iopub.execute_input": "2021-12-05T20:32:48.880450Z",
     "iopub.status.busy": "2021-12-05T20:32:48.879905Z",
     "iopub.status.idle": "2021-12-05T20:33:16.969107Z",
     "shell.execute_reply": "2021-12-05T20:33:16.967895Z",
     "shell.execute_reply.started": "2021-12-05T20:32:48.880403Z"
    }
   },
   "outputs": [],
   "source": [
    "train = pd.read_csv(trainfile)\n",
    "test = pd.read_csv(testfile)\n",
    "sub = pd.read_csv(subfile)\n",
    "print(train.shape, test.shape)\n",
    "train.head()"
   ]
  },
  {
   "cell_type": "code",
   "execution_count": 12,
   "metadata": {
    "execution": {
     "iopub.execute_input": "2021-12-05T20:33:16.971050Z",
     "iopub.status.busy": "2021-12-05T20:33:16.970807Z",
     "iopub.status.idle": "2021-12-05T20:33:17.009934Z",
     "shell.execute_reply": "2021-12-05T20:33:17.009039Z",
     "shell.execute_reply.started": "2021-12-05T20:33:16.971022Z"
    }
   },
   "outputs": [],
   "source": [
    "#### Check the class counts. If any class is too small, just drop those classes\n",
    "target = 'Cover_Type'\n",
    "train[target].value_counts()"
   ]
  },
  {
   "cell_type": "code",
   "execution_count": 13,
   "metadata": {
    "execution": {
     "iopub.execute_input": "2021-12-05T20:33:17.011944Z",
     "iopub.status.busy": "2021-12-05T20:33:17.011262Z",
     "iopub.status.idle": "2021-12-05T20:33:18.362092Z",
     "shell.execute_reply": "2021-12-05T20:33:18.361035Z",
     "shell.execute_reply.started": "2021-12-05T20:33:17.011908Z"
    }
   },
   "outputs": [],
   "source": [
    "print('rows dropped = ', train[((train[target] == 4) | (train[target] == 5))].shape)\n",
    "train = train[~((train[target] == 4) | (train[target] == 5))]\n",
    "print(train.shape)"
   ]
  },
  {
   "cell_type": "code",
   "execution_count": 14,
   "metadata": {
    "execution": {
     "iopub.execute_input": "2021-12-05T20:33:18.363888Z",
     "iopub.status.busy": "2021-12-05T20:33:18.363620Z",
     "iopub.status.idle": "2021-12-05T20:33:18.369809Z",
     "shell.execute_reply": "2021-12-05T20:33:18.368567Z",
     "shell.execute_reply.started": "2021-12-05T20:33:18.363858Z"
    }
   },
   "outputs": [],
   "source": [
    "project_name = \"deep_autoviml\"\n",
    "keras_options = {'early_stopping': True}\n",
    "model_options = {}\n",
    "keras_model_type = 'fast1'  # deep-and-wide model architecture invented by Google\n"
   ]
  },
  {
   "cell_type": "code",
   "execution_count": null,
   "metadata": {
    "execution": {
     "iopub.execute_input": "2021-12-05T20:33:18.371828Z",
     "iopub.status.busy": "2021-12-05T20:33:18.371540Z"
    }
   },
   "outputs": [],
   "source": [
    "model, cat_vocab_dict = deepauto.fit(train, target, keras_model_type=keras_model_type,\n",
    "\t\tproject_name=project_name, keras_options=keras_options,  \n",
    "\t\tmodel_options=model_options, save_model_flag=True, use_my_model='',\n",
    "\t\tmodel_use_case='', verbose=0)"
   ]
  },
  {
   "cell_type": "code",
   "execution_count": null,
   "metadata": {},
   "outputs": [],
   "source": [
    "#predict\n",
    "predictions = deepauto.predict(model, project_name, test_dataset=test,\n",
    "            keras_model_type=keras_model_type, cat_vocab_dict=cat_vocab_dict)"
   ]
  },
  {
   "cell_type": "code",
   "execution_count": null,
   "metadata": {},
   "outputs": [],
   "source": [
    "print(predictions)"
   ]
  },
  {
   "cell_type": "code",
   "execution_count": null,
   "metadata": {},
   "outputs": [],
   "source": [
    "def pred_probability_to_class_index_label(proba_list):\n",
    "    max_value = max(proba_list)\n",
    "    class_index = number_list.index(max_value)\n",
    "    return class_index\n",
    "\n",
    "prediction_class = []\n",
    "for proba in predictions:\n",
    "    class_id = pred_probability_to_class_index_label(proba)\n",
    "    prediction_class.append(class_id)"
   ]
  },
  {
   "cell_type": "code",
   "execution_count": null,
   "metadata": {},
   "outputs": [],
   "source": [
    "print(prediction_class)"
   ]
  },
  {
   "cell_type": "code",
   "execution_count": null,
   "metadata": {},
   "outputs": [],
   "source": [
    "print(sub.head(10))"
   ]
  },
  {
   "cell_type": "code",
   "execution_count": null,
   "metadata": {},
   "outputs": [],
   "source": [
    "# TODO: submit predictions"
   ]
  },
  {
   "cell_type": "code",
   "execution_count": null,
   "metadata": {},
   "outputs": [],
   "source": [
    "print('We are done. That is all, folks!')\n",
    "finish_time = dt.datetime.now()\n",
    "print(\"Finished at \", finish_time)\n",
    "elapsed = finish_time - start_time\n",
    "print(\"Elapsed time: \", elapsed)"
   ]
  }
 ],
 "metadata": {
  "kernelspec": {
   "display_name": "Python 3",
   "language": "python",
   "name": "python3"
  },
  "language_info": {
   "codemirror_mode": {
    "name": "ipython",
    "version": 3
   },
   "file_extension": ".py",
   "mimetype": "text/x-python",
   "name": "python",
   "nbconvert_exporter": "python",
   "pygments_lexer": "ipython3",
   "version": "3.7.0"
  }
 },
 "nbformat": 4,
 "nbformat_minor": 4
}
